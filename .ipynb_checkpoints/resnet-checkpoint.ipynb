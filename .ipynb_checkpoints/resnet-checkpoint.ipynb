{
 "cells": [
  {
   "cell_type": "code",
   "execution_count": 1,
   "id": "d01681a3-0b8b-43fb-aa57-34412cc502a7",
   "metadata": {},
   "outputs": [
    {
     "name": "stderr",
     "output_type": "stream",
     "text": [
      "/opt/anaconda3/envs/simclr/lib/python3.9/site-packages/tqdm/auto.py:22: TqdmWarning: IProgress not found. Please update jupyter and ipywidgets. See https://ipywidgets.readthedocs.io/en/stable/user_install.html\n",
      "  from .autonotebook import tqdm as notebook_tqdm\n"
     ]
    }
   ],
   "source": [
    "import torch\n",
    "import torch.nn as nn\n",
    "import torch.nn.functional as F\n",
    "from torch import optim\n",
    "from torch.utils.data import DataLoader, RandomSampler\n",
    "from torchvision import models\n",
    "from torchvision.datasets import CIFAR10\n",
    "from torchvision.utils import make_grid\n",
    "import torchvision.transforms as transforms\n",
    "from tensorboardX import SummaryWriter\n",
    "\n",
    "#[TODO]\n",
    "from network.modules import get_resnet, freeze_, unfreeze_\n",
    "from network.modules.transformations import TransformsRelic\n",
    "from network.modules.sync_batchnorm import convert_model\n",
    "\n",
    "\n",
    "import os\n",
    "import click\n",
    "import time\n",
    "import numpy as np\n",
    "import copy\n",
    "\n",
    "from con_losses import SupConLoss, ReLICLoss, BarlowTwinsLoss\n",
    "from network import mnist_net,res_net, generator\n",
    "import data_loader\n",
    "from main_base import evaluate\n",
    "\n",
    "import matplotlib.pyplot as plt\n",
    "\n",
    "\n",
    "HOME = os.environ['HOME']"
   ]
  },
  {
   "cell_type": "code",
   "execution_count": 76,
   "id": "c4a8735d-728d-4e19-9348-4542b3bfe80f",
   "metadata": {},
   "outputs": [],
   "source": [
    "backbone= 'resnet18'\n",
    "pretrained='True'\n",
    "ckpt=\"saved-model/cifar10/base_resnet18_True_128_run0/best.pkl\"\n",
    "projection_dim=128\n",
    "lr= 1e-3\n",
    "batchsize= 128\n",
    "nbatch=100"
   ]
  },
  {
   "cell_type": "code",
   "execution_count": 63,
   "id": "f3bb1647-fe54-40af-9e51-ec771419e8a5",
   "metadata": {},
   "outputs": [],
   "source": [
    "encoder = get_resnet(backbone, pretrained) # Pretrained Backbone default as False - We will load our model anyway\n",
    "n_features = encoder.fc.in_features\n",
    "output_dim = 10 #{TODO}- output - cifar10\n",
    "src_net= res_net.ConvNet(encoder, projection_dim, n_features, output_dim).cuda() #projection_dim/ n_features/output_dim=10\n",
    "saved_weight = torch.load(ckpt)\n",
    "src_net.load_state_dict(saved_weight['cls_net'])\n",
    "src_opt = optim.Adam(src_net.parameters(), lr=lr)"
   ]
  },
  {
   "cell_type": "code",
   "execution_count": 64,
   "id": "20b8b83a-bb5d-4963-8bc4-521339798d6d",
   "metadata": {},
   "outputs": [],
   "source": [
    "src_net_copy= copy.deepcopy(src_net)"
   ]
  },
  {
   "cell_type": "code",
   "execution_count": 65,
   "id": "dd425778-449d-44bb-9639-6e45bde358ba",
   "metadata": {},
   "outputs": [],
   "source": [
    "def freeze(freeze, model):\n",
    "    '''\n",
    "    Freeze a Model\n",
    "    --freeze (Which block to freeze --encoder/heads/all [str])\n",
    "    --model (which model to freeze [str])\n",
    "    '''\n",
    "    if freeze is not None:\n",
    "        if freeze == \"all\":\n",
    "            freeze_(model)\n",
    "        elif freeze == 'encoder':\n",
    "            freeze_(model.encoder)\n",
    "        elif freeze == 'heads':\n",
    "            freeze_(model.cls_head_src)\n",
    "            freeze_(model.cls_head_tgt)\n",
    "            freeze_(model.pro_head)\n",
    "        else:\n",
    "            raise ValueError(\"Please Freeze Either all/encoder/heads\")\n",
    "def unfreeze(unfreeze, model):\n",
    "    '''\n",
    "    Unfreeze a Model\n",
    "    --unfreeze (Which block to unfreeze --encoder/heads/all [str])\n",
    "    --model (which model to freeze [str])\n",
    "    '''\n",
    "    if unfreeze is not None:\n",
    "        if unfreeze == \"all\":\n",
    "            unfreeze_(model)\n",
    "        elif unfreeze == 'encoder':\n",
    "            unfreeze_(model.encoder)\n",
    "        elif unfreeze == 'heads':\n",
    "            unfreeze_(model.cls_head_src)\n",
    "            unfreeze_(model.cls_head_tgt)\n",
    "            unfreeze_(model.pro_head)\n",
    "        else:\n",
    "            raise ValueError(\"Please Unfreeze Either all/encoder/heads\")"
   ]
  },
  {
   "cell_type": "code",
   "execution_count": 70,
   "id": "86fc0a4e-d3e1-447b-83b1-ae80789bc688",
   "metadata": {},
   "outputs": [],
   "source": [
    "freeze(\"encoder\", src_net_copy)"
   ]
  },
  {
   "cell_type": "code",
   "execution_count": 71,
   "id": "52f4362e-9f97-46bb-a4f6-57652f873c0e",
   "metadata": {},
   "outputs": [
    {
     "data": {
      "text/plain": [
       "False"
      ]
     },
     "execution_count": 71,
     "metadata": {},
     "output_type": "execute_result"
    }
   ],
   "source": [
    "src_net_copy.encoder.layer1[0].conv1.weight.requires_grad"
   ]
  },
  {
   "cell_type": "code",
   "execution_count": 73,
   "id": "e9751057-4625-4493-afb8-6b765959cc0c",
   "metadata": {},
   "outputs": [
    {
     "data": {
      "text/plain": [
       "False"
      ]
     },
     "execution_count": 73,
     "metadata": {},
     "output_type": "execute_result"
    }
   ],
   "source": [
    "src_net_copy.encoder.layer1[0].bn1.weight.requires_grad"
   ]
  },
  {
   "cell_type": "code",
   "execution_count": 72,
   "id": "2ed8ac1a-d98d-446a-b793-b7e644db5933",
   "metadata": {},
   "outputs": [
    {
     "data": {
      "text/plain": [
       "True"
      ]
     },
     "execution_count": 72,
     "metadata": {},
     "output_type": "execute_result"
    }
   ],
   "source": [
    "src_net_copy.pro_head[0].weight.requires_grad"
   ]
  },
  {
   "cell_type": "markdown",
   "id": "d9ee5969-c945-4789-ab87-5786fab3f72e",
   "metadata": {},
   "source": [
    "# Comparing with Source Net"
   ]
  },
  {
   "cell_type": "code",
   "execution_count": 74,
   "id": "dddfcbeb-5ff3-4ba9-88a6-f27b3def13c4",
   "metadata": {},
   "outputs": [],
   "source": [
    "trset = data_loader.load_cifar10(split='train', autoaug=None) #Autoaug set as None\n",
    "teset = data_loader.load_cifar10(split='test')"
   ]
  },
  {
   "cell_type": "code",
   "execution_count": 77,
   "id": "2f4e2456-bd0a-4d03-999c-8fd7b3a990ca",
   "metadata": {},
   "outputs": [],
   "source": [
    "trloader = DataLoader(trset, batch_size=batchsize, num_workers=8, sampler=RandomSampler(trset, True, nbatch*batchsize))\n",
    "teloader = DataLoader(teset, batch_size=batchsize, num_workers=8, shuffle=False, drop_last=True)"
   ]
  },
  {
   "cell_type": "code",
   "execution_count": 79,
   "id": "fdddd7f7-572d-4477-bcd7-7c983f8b0ac7",
   "metadata": {},
   "outputs": [],
   "source": [
    "for i, (x, y) in enumerate(trloader):  \n",
    "    x, y = x.cuda(), y.cuda()"
   ]
  },
  {
   "cell_type": "code",
   "execution_count": 92,
   "id": "6de7ace0-86bd-4987-81d0-54d8e683fc98",
   "metadata": {},
   "outputs": [],
   "source": [
    "p,z= src_net(x, mode= 'train')\n",
    "p_oracle,z_oracle= src_net_copy(x, mode= 'train')\n"
   ]
  },
  {
   "cell_type": "code",
   "execution_count": null,
   "id": "c6fcfe54-fadf-46fe-be7a-7d5275f332df",
   "metadata": {},
   "outputs": [],
   "source": []
  }
 ],
 "metadata": {
  "kernelspec": {
   "display_name": "Python 3",
   "language": "python",
   "name": "python3"
  },
  "language_info": {
   "codemirror_mode": {
    "name": "ipython",
    "version": 3
   },
   "file_extension": ".py",
   "mimetype": "text/x-python",
   "name": "python",
   "nbconvert_exporter": "python",
   "pygments_lexer": "ipython3",
   "version": "3.9.13"
  }
 },
 "nbformat": 4,
 "nbformat_minor": 5
}
