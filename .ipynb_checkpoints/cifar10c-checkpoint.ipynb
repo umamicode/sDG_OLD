{
 "cells": [
  {
   "cell_type": "code",
   "execution_count": 1,
   "id": "a195cfbe-0f5b-4785-9801-97498f219a2e",
   "metadata": {},
   "outputs": [
    {
     "name": "stderr",
     "output_type": "stream",
     "text": [
      "/opt/anaconda3/envs/simclr/lib/python3.9/site-packages/tqdm/auto.py:22: TqdmWarning: IProgress not found. Please update jupyter and ipywidgets. See https://ipywidgets.readthedocs.io/en/stable/user_install.html\n",
      "  from .autonotebook import tqdm as notebook_tqdm\n"
     ]
    },
    {
     "ename": "ImportError",
     "evalue": "cannot import name 'load_txt' from 'utils' (/home/dongkyu/sDG/utils.py)",
     "output_type": "error",
     "traceback": [
      "\u001b[0;31m---------------------------------------------------------------------------\u001b[0m",
      "\u001b[0;31mImportError\u001b[0m                               Traceback (most recent call last)",
      "Cell \u001b[0;32mIn [1], line 11\u001b[0m\n\u001b[1;32m      8\u001b[0m \u001b[38;5;28;01mfrom\u001b[39;00m \u001b[38;5;21;01mtorch\u001b[39;00m\u001b[38;5;21;01m.\u001b[39;00m\u001b[38;5;21;01mutils\u001b[39;00m\u001b[38;5;21;01m.\u001b[39;00m\u001b[38;5;21;01mdata\u001b[39;00m \u001b[38;5;28;01mimport\u001b[39;00m Subset\n\u001b[1;32m      9\u001b[0m \u001b[38;5;28;01mfrom\u001b[39;00m \u001b[38;5;21;01mtorchvision\u001b[39;00m \u001b[38;5;28;01mimport\u001b[39;00m datasets\n\u001b[0;32m---> 11\u001b[0m \u001b[38;5;28;01mfrom\u001b[39;00m \u001b[38;5;21;01mutils\u001b[39;00m \u001b[38;5;28;01mimport\u001b[39;00m load_txt\n\u001b[1;32m     13\u001b[0m corruptions \u001b[38;5;241m=\u001b[39m load_txt(\u001b[38;5;124m'\u001b[39m\u001b[38;5;124m./src/corruptions.txt\u001b[39m\u001b[38;5;124m'\u001b[39m)\n\u001b[1;32m     16\u001b[0m \u001b[38;5;28;01mclass\u001b[39;00m \u001b[38;5;21;01mCIFAR10C\u001b[39;00m(datasets\u001b[38;5;241m.\u001b[39mVisionDataset):\n",
      "\u001b[0;31mImportError\u001b[0m: cannot import name 'load_txt' from 'utils' (/home/dongkyu/sDG/utils.py)"
     ]
    }
   ],
   "source": [
    "import numpy as np\n",
    "import os\n",
    "import PIL\n",
    "import torch\n",
    "import torchvision\n",
    "\n",
    "from PIL import Image\n",
    "from torch.utils.data import Subset\n",
    "from torchvision import datasets\n",
    "\n",
    "from utils import load_txt\n",
    "\n",
    "corruptions = load_txt('./corruptions.txt')\n",
    "\n",
    "\n",
    "class CIFAR10C(datasets.VisionDataset):\n",
    "    def __init__(self, root :str, name :str,\n",
    "                 transform=None, target_transform=None):\n",
    "        assert name in corruptions\n",
    "        super(CIFAR10C, self).__init__(\n",
    "            root, transform=transform,\n",
    "            target_transform=target_transform\n",
    "        )\n",
    "        data_path = os.path.join(root, name + '.npy')\n",
    "        target_path = os.path.join(root, 'labels.npy')\n",
    "        \n",
    "        self.data = np.load(data_path)\n",
    "        self.targets = np.load(target_path)\n",
    "        \n",
    "    def __getitem__(self, index):\n",
    "        img, targets = self.data[index], self.targets[index]\n",
    "        img = Image.fromarray(img)\n",
    "        \n",
    "        if self.transform is not None:\n",
    "            img = self.transform(img)\n",
    "        if self.target_transform is not None:\n",
    "            targets = self.target_transform(targets)\n",
    "            \n",
    "        return img, targets\n",
    "    \n",
    "    def __len__(self):\n",
    "        return len(self.data)\n",
    "\n",
    "\n",
    "def extract_subset(dataset, num_subset :int, random_subset :bool):\n",
    "    if random_subset:\n",
    "        random.seed(0)\n",
    "        indices = random.sample(list(range(len(dataset))), num_subset)\n",
    "    else:\n",
    "        indices = [i for i in range(num_subset)]\n",
    "    return Subset(dataset, indices)"
   ]
  },
  {
   "cell_type": "code",
   "execution_count": null,
   "id": "1308c971-ebda-4935-8cc3-a5e1be20d8d0",
   "metadata": {},
   "outputs": [],
   "source": []
  }
 ],
 "metadata": {
  "kernelspec": {
   "display_name": "Python 3",
   "language": "python",
   "name": "python3"
  },
  "language_info": {
   "codemirror_mode": {
    "name": "ipython",
    "version": 3
   },
   "file_extension": ".py",
   "mimetype": "text/x-python",
   "name": "python",
   "nbconvert_exporter": "python",
   "pygments_lexer": "ipython3",
   "version": "3.9.13"
  }
 },
 "nbformat": 4,
 "nbformat_minor": 5
}
