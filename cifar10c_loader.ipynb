{
 "cells": [
  {
   "cell_type": "code",
   "execution_count": 37,
   "id": "a195cfbe-0f5b-4785-9801-97498f219a2e",
   "metadata": {},
   "outputs": [],
   "source": [
    "import numpy as np\n",
    "import os\n",
    "import PIL\n",
    "import torch\n",
    "import torchvision\n",
    "import pickle\n",
    "\n",
    "from PIL import Image\n",
    "from torch.utils.data import Subset\n",
    "from torchvision import datasets, transforms\n",
    "\n",
    "def load_txt(path :str) -> list:\n",
    "    return [line.rstrip('\\n') for line in open(path)]\n",
    "\n",
    "corruptions = load_txt('./corruptions.txt')\n",
    "\n",
    "\n",
    "class CIFAR10C(datasets.VisionDataset):\n",
    "    def __init__(self, root :str, name :str,\n",
    "                 transform=None, target_transform=None):\n",
    "        assert name in corruptions\n",
    "        super(CIFAR10C, self).__init__(\n",
    "            root, transform=transform,\n",
    "            target_transform=target_transform\n",
    "        )\n",
    "        data_path = os.path.join(root, name + '.npy')\n",
    "        target_path = os.path.join(root, 'labels.npy')\n",
    "        \n",
    "        self.data = np.load(data_path)\n",
    "        self.targets = np.load(target_path)\n",
    "        \n",
    "    def __getitem__(self, index):\n",
    "        img, targets = self.data[index], self.targets[index]\n",
    "        img = Image.fromarray(img)\n",
    "        \n",
    "        if self.transform is not None:\n",
    "            img = self.transform(img)\n",
    "        if self.target_transform is not None:\n",
    "            targets = self.target_transform(targets)\n",
    "            \n",
    "        return img, targets\n",
    "    \n",
    "    def __len__(self):\n",
    "        return len(self.data)\n",
    "\n",
    "\n",
    "def extract_subset(dataset, num_subset :int, random_subset :bool):\n",
    "    if random_subset:\n",
    "        random.seed(0)\n",
    "        indices = random.sample(list(range(len(dataset))), num_subset)\n",
    "    else:\n",
    "        indices = [i for i in range(num_subset)]\n",
    "    return Subset(dataset, indices)\n",
    "\n"
   ]
  },
  {
   "cell_type": "code",
   "execution_count": 44,
   "id": "5a62c856-f3d0-46d9-8504-ba8e81849fa3",
   "metadata": {},
   "outputs": [
    {
     "name": "stdout",
     "output_type": "stream",
     "text": [
      "['shot_noise', 'speckle_noise', 'impulse_noise', 'defocus_blur', 'gaussian_blur', 'motion_blur', 'zoom_blur', 'snow', 'fog', 'brightness', 'contrast', 'elastic_transform', 'pixelate', 'jpeg_compression', 'spatter', 'saturate', 'frost']\n"
     ]
    }
   ],
   "source": [
    "corruptions= corruptions[1:]\n",
    "print(corruptions)"
   ]
  },
  {
   "cell_type": "code",
   "execution_count": 39,
   "id": "a8510eee-e2d2-48f5-8cfb-b69ce812e542",
   "metadata": {},
   "outputs": [],
   "source": [
    "def cifar10c_loader(name,level):\n",
    "    MEAN = [0.49139968, 0.48215841, 0.44653091]\n",
    "    STD  = [0.24703223, 0.24348513, 0.26158784]\n",
    "    transform = transforms.Compose([transforms.ToTensor(), transforms.Normalize(MEAN, STD)])  \n",
    "    path = f'data/pickles/cifar10c-{name}_{level}.pkl'\n",
    "    ds= CIFAR10C(root= './data/cifar10c/CIFAR-10-C', name= name, transform= transform)\n",
    "    x,y= ds.data, ds.targets\n",
    "    x= torch.tensor(x)\n",
    "    y= torch.tensor(y)\n",
    "    x= (x.float()/255.).permute(0,3,1,2)\n",
    "    if level == 5:\n",
    "        x= x[-10000:]\n",
    "        y= y[-10000:]\n",
    "    with open(path, 'wb') as f:\n",
    "            pickle.dump([x, y], f)\n",
    "    print(\"Saved In: {c}\".format(c= path))\n",
    "    \n",
    "    \n",
    "    "
   ]
  },
  {
   "cell_type": "code",
   "execution_count": 45,
   "id": "8c26bf36-3b6d-4f77-ace7-882cde9c61c1",
   "metadata": {},
   "outputs": [
    {
     "name": "stdout",
     "output_type": "stream",
     "text": [
      "Saved In: data/pickles/cifar10c-shot_noise_5.pkl\n",
      "Saved In: data/pickles/cifar10c-speckle_noise_5.pkl\n",
      "Saved In: data/pickles/cifar10c-impulse_noise_5.pkl\n",
      "Saved In: data/pickles/cifar10c-defocus_blur_5.pkl\n",
      "Saved In: data/pickles/cifar10c-gaussian_blur_5.pkl\n",
      "Saved In: data/pickles/cifar10c-motion_blur_5.pkl\n",
      "Saved In: data/pickles/cifar10c-zoom_blur_5.pkl\n",
      "Saved In: data/pickles/cifar10c-snow_5.pkl\n",
      "Saved In: data/pickles/cifar10c-fog_5.pkl\n",
      "Saved In: data/pickles/cifar10c-brightness_5.pkl\n",
      "Saved In: data/pickles/cifar10c-contrast_5.pkl\n",
      "Saved In: data/pickles/cifar10c-elastic_transform_5.pkl\n",
      "Saved In: data/pickles/cifar10c-pixelate_5.pkl\n",
      "Saved In: data/pickles/cifar10c-jpeg_compression_5.pkl\n",
      "Saved In: data/pickles/cifar10c-spatter_5.pkl\n",
      "Saved In: data/pickles/cifar10c-saturate_5.pkl\n",
      "Saved In: data/pickles/cifar10c-frost_5.pkl\n"
     ]
    }
   ],
   "source": [
    "for corruption in corruptions:\n",
    "    cifar10c_loader(name= corruption,level=5)"
   ]
  },
  {
   "cell_type": "code",
   "execution_count": null,
   "id": "09db168d-6fc8-49b1-ac9c-37feea4a99c4",
   "metadata": {},
   "outputs": [],
   "source": []
  }
 ],
 "metadata": {
  "kernelspec": {
   "display_name": "Python 3",
   "language": "python",
   "name": "python3"
  },
  "language_info": {
   "codemirror_mode": {
    "name": "ipython",
    "version": 3
   },
   "file_extension": ".py",
   "mimetype": "text/x-python",
   "name": "python",
   "nbconvert_exporter": "python",
   "pygments_lexer": "ipython3",
   "version": "3.9.13"
  }
 },
 "nbformat": 4,
 "nbformat_minor": 5
}
