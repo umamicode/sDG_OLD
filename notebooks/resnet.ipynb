{
 "cells": [
  {
   "cell_type": "code",
   "execution_count": 3,
   "id": "2aa90cd1-4de1-47c9-b5ea-381644293a56",
   "metadata": {},
   "outputs": [
    {
     "name": "stdout",
     "output_type": "stream",
     "text": [
      "/home/dongkyu/sDG\n"
     ]
    }
   ],
   "source": [
    "%cd .."
   ]
  },
  {
   "cell_type": "code",
   "execution_count": 4,
   "id": "7d08f1e3-776c-4c06-bf12-4f2c5583691b",
   "metadata": {},
   "outputs": [],
   "source": [
    "import torch\n",
    "import torch.nn as nn\n",
    "import torch.nn.functional as F\n",
    "from torch import optim\n",
    "from torch.utils.data import DataLoader, RandomSampler\n",
    "from torchvision import models\n",
    "from torchvision.datasets import CIFAR10\n",
    "from torchvision.utils import make_grid\n",
    "import torchvision.transforms as transforms\n",
    "from tensorboardX import SummaryWriter\n",
    "\n",
    "import os\n",
    "import click\n",
    "import time\n",
    "import numpy as np\n",
    "import copy\n",
    "\n",
    "from loss_functions import SupConLoss, MdarLoss, kl_divergence\n",
    "from network import mnist_net, res_net, cifar_net, generator\n",
    "from network.modules import get_resnet, get_generator, freeze, unfreeze, freeze_, unfreeze_, LARS\n",
    "from tools.miro_utils import *\n",
    "from tools.farmer import *\n",
    "import data_loader\n",
    "from main_base import evaluate\n",
    "\n",
    "import matplotlib.pyplot as plt\n",
    "\n",
    "\n",
    "HOME = os.environ['HOME']"
   ]
  },
  {
   "cell_type": "code",
   "execution_count": 9,
   "id": "a1177b10-ff0b-48ca-bc33-8c8b0c8653cb",
   "metadata": {},
   "outputs": [],
   "source": [
    "w_cls=1.0\n",
    "w_cyc=20\n",
    "w_info=0.1 \n",
    "w_oracle=1.0\n",
    "w_div=2.0 \n",
    "div_thresh=0.5\n",
    "w_tgt=1.0\n",
    "\n",
    "\n",
    "#how about try smaller tgt \n",
    "n_tgt=100 #20\n",
    "max_tgt=99 #19\n",
    "tgt_epochs_fixg=5 #15\n",
    "tgt_epochs=10 #30\n",
    "lmda=0.051 #lmda for adv-barlowtwins (0.051 best)\n",
    "\n",
    "gen='cnn'\n",
    "interpolation='img'\n",
    "oracle=False\n",
    "\n",
    "\n",
    "data='pacs' #mnist/cifar10/pacs\n",
    "backbone='resnet18' #(pacs_net/resnet18/resnet50/wideresnet) \n",
    "pretrained='True' #Only to load right base model. my_iter process is set as pretrained=False.\n",
    "projection_dim=512 #default: (mnist: 128/ cifar-10:128)\n",
    "loss_fn='mdar' #supcon/mdar\n",
    "lr=1e-4 #1e-4 #1e-3 sucks #adam with 1e-5/1e-4 #sdg with 1e-4\n",
    "lr_scheduler='none' #cosine/none  #adam with none # sgd with cosine\n",
    "optimizer='adam' #sgd/adam\n",
    "\n",
    "batchsize=16 #default:16 for pacs\n"
   ]
  },
  {
   "cell_type": "code",
   "execution_count": 11,
   "id": "5e60935f-4991-46c3-8016-47d93bf1bcae",
   "metadata": {},
   "outputs": [],
   "source": [
    "ckpt='saved-model/pacs/base_resnet18_True_512_run0/best.pkl'"
   ]
  },
  {
   "cell_type": "code",
   "execution_count": 13,
   "id": "be4c8053-4e26-4512-8f3f-85977f30aa67",
   "metadata": {},
   "outputs": [],
   "source": [
    "encoder = get_resnet(backbone, pretrained) # Pretrained Backbone default as False - We will load our model anyway\n",
    "n_features = encoder.fc.in_features\n",
    "output_dim = 7 \n",
    "src_net= res_net.ConvNet(encoder, projection_dim, n_features, output_dim).cuda() #projection_dim/ n_features/output_dim=10\n",
    "saved_weight = torch.load(ckpt)\n",
    "src_net.load_state_dict(saved_weight['cls_net'])\n",
    "if optimizer == 'adam':\n",
    "    src_opt = optim.Adam(src_net.parameters(), lr=lr)\n",
    "elif optimizer == 'sgd':\n",
    "    src_opt = optim.SGD(src_net.parameters(), lr=lr, momentum=0.9, nesterov=True, weight_decay=1e-1)"
   ]
  },
  {
   "cell_type": "code",
   "execution_count": 26,
   "id": "4571eac9-9c42-443b-b2e1-dac7e07bf510",
   "metadata": {},
   "outputs": [
    {
     "data": {
      "text/plain": [
       "ResNet(\n",
       "  (conv1): Conv2d(3, 64, kernel_size=(7, 7), stride=(2, 2), padding=(3, 3), bias=False)\n",
       "  (bn1): BatchNorm2d(64, eps=1e-05, momentum=0.1, affine=True, track_running_stats=True)\n",
       "  (relu): ReLU(inplace=True)\n",
       "  (maxpool): MaxPool2d(kernel_size=3, stride=2, padding=1, dilation=1, ceil_mode=False)\n",
       "  (layer1): Sequential(\n",
       "    (0): BasicBlock(\n",
       "      (conv1): Conv2d(64, 64, kernel_size=(3, 3), stride=(1, 1), padding=(1, 1), bias=False)\n",
       "      (bn1): BatchNorm2d(64, eps=1e-05, momentum=0.1, affine=True, track_running_stats=True)\n",
       "      (relu): ReLU(inplace=True)\n",
       "      (conv2): Conv2d(64, 64, kernel_size=(3, 3), stride=(1, 1), padding=(1, 1), bias=False)\n",
       "      (bn2): BatchNorm2d(64, eps=1e-05, momentum=0.1, affine=True, track_running_stats=True)\n",
       "    )\n",
       "    (1): BasicBlock(\n",
       "      (conv1): Conv2d(64, 64, kernel_size=(3, 3), stride=(1, 1), padding=(1, 1), bias=False)\n",
       "      (bn1): BatchNorm2d(64, eps=1e-05, momentum=0.1, affine=True, track_running_stats=True)\n",
       "      (relu): ReLU(inplace=True)\n",
       "      (conv2): Conv2d(64, 64, kernel_size=(3, 3), stride=(1, 1), padding=(1, 1), bias=False)\n",
       "      (bn2): BatchNorm2d(64, eps=1e-05, momentum=0.1, affine=True, track_running_stats=True)\n",
       "    )\n",
       "  )\n",
       "  (layer2): Sequential(\n",
       "    (0): BasicBlock(\n",
       "      (conv1): Conv2d(64, 128, kernel_size=(3, 3), stride=(2, 2), padding=(1, 1), bias=False)\n",
       "      (bn1): BatchNorm2d(128, eps=1e-05, momentum=0.1, affine=True, track_running_stats=True)\n",
       "      (relu): ReLU(inplace=True)\n",
       "      (conv2): Conv2d(128, 128, kernel_size=(3, 3), stride=(1, 1), padding=(1, 1), bias=False)\n",
       "      (bn2): BatchNorm2d(128, eps=1e-05, momentum=0.1, affine=True, track_running_stats=True)\n",
       "      (downsample): Sequential(\n",
       "        (0): Conv2d(64, 128, kernel_size=(1, 1), stride=(2, 2), bias=False)\n",
       "        (1): BatchNorm2d(128, eps=1e-05, momentum=0.1, affine=True, track_running_stats=True)\n",
       "      )\n",
       "    )\n",
       "    (1): BasicBlock(\n",
       "      (conv1): Conv2d(128, 128, kernel_size=(3, 3), stride=(1, 1), padding=(1, 1), bias=False)\n",
       "      (bn1): BatchNorm2d(128, eps=1e-05, momentum=0.1, affine=True, track_running_stats=True)\n",
       "      (relu): ReLU(inplace=True)\n",
       "      (conv2): Conv2d(128, 128, kernel_size=(3, 3), stride=(1, 1), padding=(1, 1), bias=False)\n",
       "      (bn2): BatchNorm2d(128, eps=1e-05, momentum=0.1, affine=True, track_running_stats=True)\n",
       "    )\n",
       "  )\n",
       "  (layer3): Sequential(\n",
       "    (0): BasicBlock(\n",
       "      (conv1): Conv2d(128, 256, kernel_size=(3, 3), stride=(2, 2), padding=(1, 1), bias=False)\n",
       "      (bn1): BatchNorm2d(256, eps=1e-05, momentum=0.1, affine=True, track_running_stats=True)\n",
       "      (relu): ReLU(inplace=True)\n",
       "      (conv2): Conv2d(256, 256, kernel_size=(3, 3), stride=(1, 1), padding=(1, 1), bias=False)\n",
       "      (bn2): BatchNorm2d(256, eps=1e-05, momentum=0.1, affine=True, track_running_stats=True)\n",
       "      (downsample): Sequential(\n",
       "        (0): Conv2d(128, 256, kernel_size=(1, 1), stride=(2, 2), bias=False)\n",
       "        (1): BatchNorm2d(256, eps=1e-05, momentum=0.1, affine=True, track_running_stats=True)\n",
       "      )\n",
       "    )\n",
       "    (1): BasicBlock(\n",
       "      (conv1): Conv2d(256, 256, kernel_size=(3, 3), stride=(1, 1), padding=(1, 1), bias=False)\n",
       "      (bn1): BatchNorm2d(256, eps=1e-05, momentum=0.1, affine=True, track_running_stats=True)\n",
       "      (relu): ReLU(inplace=True)\n",
       "      (conv2): Conv2d(256, 256, kernel_size=(3, 3), stride=(1, 1), padding=(1, 1), bias=False)\n",
       "      (bn2): BatchNorm2d(256, eps=1e-05, momentum=0.1, affine=True, track_running_stats=True)\n",
       "    )\n",
       "  )\n",
       "  (layer4): Sequential(\n",
       "    (0): BasicBlock(\n",
       "      (conv1): Conv2d(256, 512, kernel_size=(3, 3), stride=(2, 2), padding=(1, 1), bias=False)\n",
       "      (bn1): BatchNorm2d(512, eps=1e-05, momentum=0.1, affine=True, track_running_stats=True)\n",
       "      (relu): ReLU(inplace=True)\n",
       "      (conv2): Conv2d(512, 512, kernel_size=(3, 3), stride=(1, 1), padding=(1, 1), bias=False)\n",
       "      (bn2): BatchNorm2d(512, eps=1e-05, momentum=0.1, affine=True, track_running_stats=True)\n",
       "      (downsample): Sequential(\n",
       "        (0): Conv2d(256, 512, kernel_size=(1, 1), stride=(2, 2), bias=False)\n",
       "        (1): BatchNorm2d(512, eps=1e-05, momentum=0.1, affine=True, track_running_stats=True)\n",
       "      )\n",
       "    )\n",
       "    (1): BasicBlock(\n",
       "      (conv1): Conv2d(512, 512, kernel_size=(3, 3), stride=(1, 1), padding=(1, 1), bias=False)\n",
       "      (bn1): BatchNorm2d(512, eps=1e-05, momentum=0.1, affine=True, track_running_stats=True)\n",
       "      (relu): ReLU(inplace=True)\n",
       "      (conv2): Conv2d(512, 512, kernel_size=(3, 3), stride=(1, 1), padding=(1, 1), bias=False)\n",
       "      (bn2): BatchNorm2d(512, eps=1e-05, momentum=0.1, affine=True, track_running_stats=True)\n",
       "    )\n",
       "  )\n",
       "  (avgpool): AdaptiveAvgPool2d(output_size=(1, 1))\n",
       "  (fc): Identity()\n",
       ")"
      ]
     },
     "execution_count": 26,
     "metadata": {},
     "output_type": "execute_result"
    }
   ],
   "source": [
    "src_net.encoder"
   ]
  },
  {
   "cell_type": "code",
   "execution_count": 30,
   "id": "3744f8ee-dec3-4f9a-8aed-12af7371337b",
   "metadata": {},
   "outputs": [],
   "source": [
    "def get_features(name):\n",
    "    def hook(model, input, output):\n",
    "        features[name] = output.detach()\n",
    "    return hook"
   ]
  },
  {
   "cell_type": "code",
   "execution_count": 31,
   "id": "2427699c-ca63-4cf0-951e-2605cc57ff8d",
   "metadata": {},
   "outputs": [
    {
     "data": {
      "text/plain": [
       "<torch.utils.hooks.RemovableHandle at 0x7fecddb1bbe0>"
      ]
     },
     "execution_count": 31,
     "metadata": {},
     "output_type": "execute_result"
    }
   ],
   "source": [
    "src_net.encoder.layer1[1].bn2.register_forward_hook(get_features('feats'))"
   ]
  },
  {
   "cell_type": "code",
   "execution_count": 32,
   "id": "889fb8b5-795f-4594-9ec5-45a2d033dc23",
   "metadata": {},
   "outputs": [
    {
     "data": {
      "text/plain": [
       "<torch.utils.hooks.RemovableHandle at 0x7fecddb25850>"
      ]
     },
     "execution_count": 32,
     "metadata": {},
     "output_type": "execute_result"
    }
   ],
   "source": [
    "src_net.encoder.layer2[1].bn2.register_forward_hook(get_features('feats'))"
   ]
  },
  {
   "cell_type": "code",
   "execution_count": 33,
   "id": "53ef975d-ff9a-4729-817c-5ad37751a004",
   "metadata": {},
   "outputs": [
    {
     "data": {
      "text/plain": [
       "<torch.utils.hooks.RemovableHandle at 0x7fecddadf2e0>"
      ]
     },
     "execution_count": 33,
     "metadata": {},
     "output_type": "execute_result"
    }
   ],
   "source": [
    "src_net.encoder.layer3[1].bn2.register_forward_hook(get_features('feats'))"
   ]
  },
  {
   "cell_type": "code",
   "execution_count": 34,
   "id": "dca5fbac-a93d-49b1-85f8-22b7b65656d9",
   "metadata": {},
   "outputs": [
    {
     "data": {
      "text/plain": [
       "<torch.utils.hooks.RemovableHandle at 0x7fecdb97f6a0>"
      ]
     },
     "execution_count": 34,
     "metadata": {},
     "output_type": "execute_result"
    }
   ],
   "source": [
    "src_net.encoder.layer4[1].bn2.register_forward_hook(get_features('feats'))"
   ]
  },
  {
   "cell_type": "code",
   "execution_count": null,
   "id": "4cced538-3632-4354-a35b-fc049ae9dd79",
   "metadata": {},
   "outputs": [],
   "source": [
    "src_net.encoder.layer1[1].bn2.register_forward_hook(get_features('feats'))\n",
    "src_net.encoder.layer2[1].bn2.register_forward_hook(get_features('feats'))\n",
    "src_net.encoder.layer3[1].bn2.register_forward_hook(get_features('feats'))\n",
    "src_net.encoder.layer4[1].bn2.register_forward_hook(get_features('feats'))"
   ]
  },
  {
   "cell_type": "code",
   "execution_count": null,
   "id": "076e3d67-90e1-4741-8662-774945a5ee39",
   "metadata": {},
   "outputs": [],
   "source": []
  },
  {
   "cell_type": "code",
   "execution_count": 35,
   "id": "298471d2-659f-485a-8d56-67c3e93186fc",
   "metadata": {},
   "outputs": [],
   "source": [
    "from tools.midlevel import IntermediateLayerGetter"
   ]
  },
  {
   "cell_type": "code",
   "execution_count": 36,
   "id": "8e771c9a-c882-45df-b6ce-76652daf025b",
   "metadata": {},
   "outputs": [],
   "source": [
    "return_layers= {\"encoder.layer1[1].bn2\"}"
   ]
  },
  {
   "cell_type": "code",
   "execution_count": 37,
   "id": "40dbebf8-75fc-4f17-81ed-94ed176a419c",
   "metadata": {},
   "outputs": [
    {
     "data": {
      "text/plain": [
       "<tools.midlevel.IntermediateLayerGetter at 0x7fecddb5deb0>"
      ]
     },
     "execution_count": 37,
     "metadata": {},
     "output_type": "execute_result"
    }
   ],
   "source": [
    "IntermediateLayerGetter(src_net, return_layers= return_layers, keep_output=True)"
   ]
  },
  {
   "cell_type": "code",
   "execution_count": null,
   "id": "cc7270d3-1994-42bb-859d-706544e1868e",
   "metadata": {},
   "outputs": [],
   "source": []
  }
 ],
 "metadata": {
  "kernelspec": {
   "display_name": "Python 3",
   "language": "python",
   "name": "python3"
  },
  "language_info": {
   "codemirror_mode": {
    "name": "ipython",
    "version": 3
   },
   "file_extension": ".py",
   "mimetype": "text/x-python",
   "name": "python",
   "nbconvert_exporter": "python",
   "pygments_lexer": "ipython3",
   "version": "3.9.13"
  }
 },
 "nbformat": 4,
 "nbformat_minor": 5
}
